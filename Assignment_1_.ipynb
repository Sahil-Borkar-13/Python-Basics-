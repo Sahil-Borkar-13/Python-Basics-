{
  "nbformat": 4,
  "nbformat_minor": 0,
  "metadata": {
    "colab": {
      "provenance": []
    },
    "kernelspec": {
      "name": "python3",
      "display_name": "Python 3"
    },
    "language_info": {
      "name": "python"
    }
  },
  "cells": [
    {
      "cell_type": "markdown",
      "source": [
        "# Theory Questions"
      ],
      "metadata": {
        "id": "vNximUCmBtpJ"
      }
    },
    {
      "cell_type": "markdown",
      "source": [
        "1. What is Python, and why is it popular\n",
        "\n",
        ": Python is a high level programming language. It is popular because of its easy to learn nature and its syntax is generally looks like normal english language. Python is also Begineer friendly language and Python has Huge Community of Developers, Data analysts or Data Scientists because it Has large Number libraries that can do several tasks like Development, Analysis, machine learning and Deep Learning Libraries that useful to develop ML & DL model.\n",
        "\n",
        "2. What is an interpreter in Python\n",
        "\n",
        ": Interpreter is a program that Exucutes python code line by line and Convert high level Python code to machine understandable code.\n",
        "\n",
        "3. What are pre-defined keywords in Python\n",
        "\n",
        "\n",
        ": Pre-Defined keywords are the reseved keywords in Python.\n",
        "There are several types of Pre-Defined Keywords in Python Like\n",
        "- control flow : if, else, elif, for, while, break, continue\n",
        "- Value Keywords : True, False, None\n",
        "- Operator Keywords : and, or, not, is, in\n",
        "\n",
        "4. Can keywords be used as variable names\n",
        "\n",
        ": No, Keywords are not used as Variable names .\n",
        "\n",
        "5. What is mutability in Python\n",
        "\n",
        ": Mutability means we can change and update the data in Python\n",
        "if we take a example of list , we can delete change or update the date in list ,\n",
        " that shows list are mutable in nature but on the other hand we cannot change the tuples Data ones its Declared in Program.\n",
        "\n",
        "6. Why are lists mutable, but tuples are immutable\n",
        "\n",
        ": Because we can update the data present in the list anywhere throughtout the program but it is impossible in tuple.\n",
        "\n",
        "7. What is the difference between “==” and “is” operators in Python\n",
        "\n",
        ": '==' is a comparision oprator , its compare two values and return true  if    values are same it is also calles as Eqiuty operator\n",
        "  'is' is a identity opeartor , it generally checks that the same objects in memory.\n",
        "\n",
        "8. What are logical operators in Python\n",
        "\n",
        ": Logical operators in python is used to combine conditional statements and perform logical opeartions in Python. Examples of logical operators are and , or , not\n",
        "\n",
        "9. What is type casting in Python\n",
        "\n",
        ": Type Casting refers to the changing of Data types of the variable or Data\n",
        "  example: like converting String Data type to Integer or Boolean or convering integer data type into float\n",
        "\n",
        "10. What is the difference between implicit and explicit type casting\n",
        "\n",
        ": Implicit type casting is done automatically by the interpreter and\n",
        "  if we manually change the data type of a variable it is calles as explicit type casting .\n",
        "\n",
        "11. What is the purpose of conditional statements in Python\n",
        "\n",
        ": Conditional statements in Python are used to make decisions in a program. They allow the program to check a condition and run a specific block of code only if that condition is true.\n",
        "\n",
        "12. How does the elif statement work\n",
        "\n",
        ": elif statement is used with the if statement , it stands for the else if.\n",
        "if the starting if condition is not satisfied then it checks for elif conditions . we can declare multiple elif conditions in program .\n",
        "\n",
        "13. What is the difference between for and while loops\n",
        "\n",
        ": For loop: Repeats a block of code a fixed number of times, usually when the number of iterations is known.\n",
        "While loop: Repeats a block of code as long as a condition is True, usually when the number of iterations is unknown.\n",
        "\n",
        "14. Describe a scenario where a while loop is more suitable than a for loop.\n",
        "\n",
        ": while loop is suitable when we don't know how many times should we have to run the loop."
      ],
      "metadata": {
        "id": "76FvscrbCDgB"
      }
    },
    {
      "cell_type": "markdown",
      "source": [
        "# Practical Questions"
      ],
      "metadata": {
        "id": "w6kFM-4YBp8y"
      }
    },
    {
      "cell_type": "code",
      "execution_count": null,
      "metadata": {
        "colab": {
          "base_uri": "https://localhost:8080/"
        },
        "id": "hgERGOBL5mEQ",
        "outputId": "fa5e3033-a522-490f-d57e-c9db166536f7"
      },
      "outputs": [
        {
          "output_type": "stream",
          "name": "stdout",
          "text": [
            "Hello, World!\n"
          ]
        }
      ],
      "source": [
        "# 1. Write a Python program to print \"Hello, World!\"\n",
        "print(\"Hello, World!\")"
      ]
    },
    {
      "cell_type": "code",
      "source": [
        "# 2. Write a Python program that displays your name and age8\n",
        "print(\"Name : Sahil\")\n",
        "print(\"Age : 20\")"
      ],
      "metadata": {
        "colab": {
          "base_uri": "https://localhost:8080/"
        },
        "id": "tduVJJTK5_6i",
        "outputId": "b17166d1-0cad-41e9-da09-ecd6bc543e32"
      },
      "execution_count": null,
      "outputs": [
        {
          "output_type": "stream",
          "name": "stdout",
          "text": [
            "Name : Sahil\n",
            "Age : 20\n"
          ]
        }
      ]
    },
    {
      "cell_type": "code",
      "source": [
        "# 3. Write code to print all the pre-defined keywords in Python using the keyword library\n",
        "import keyword\n",
        "keyword = keyword.kwlist\n",
        "print(keyword)"
      ],
      "metadata": {
        "colab": {
          "base_uri": "https://localhost:8080/"
        },
        "id": "mdU_FqcJ6JHx",
        "outputId": "afa71ad9-16d3-41ab-f230-6039e12e96d8"
      },
      "execution_count": null,
      "outputs": [
        {
          "output_type": "stream",
          "name": "stdout",
          "text": [
            "['False', 'None', 'True', 'and', 'as', 'assert', 'async', 'await', 'break', 'class', 'continue', 'def', 'del', 'elif', 'else', 'except', 'finally', 'for', 'from', 'global', 'if', 'import', 'in', 'is', 'lambda', 'nonlocal', 'not', 'or', 'pass', 'raise', 'return', 'try', 'while', 'with', 'yield']\n"
          ]
        }
      ]
    },
    {
      "cell_type": "code",
      "source": [
        "# 4. Write a program that checks if a given word is a Python keyword.\n",
        "keyword_new =[]\n",
        "for i in keyword:\n",
        "  keyword_new.append(i.lower())\n",
        "\n",
        "word = input(\"Enter the Word to be Checked : \").lower()\n",
        "if word in keyword_new:\n",
        "    print(f\"{word} is a Python Keyword\")\n",
        "else:\n",
        "    print(f\"{word} is not a Python Keyword\")"
      ],
      "metadata": {
        "colab": {
          "base_uri": "https://localhost:8080/"
        },
        "id": "O603hjef6eaQ",
        "outputId": "4b7b1d77-3c53-42b1-8e6b-8f0e5072f274"
      },
      "execution_count": null,
      "outputs": [
        {
          "output_type": "stream",
          "name": "stdout",
          "text": [
            "Enter the Word to be Checked : True\n",
            "true is a Python Keyword\n"
          ]
        }
      ]
    },
    {
      "cell_type": "code",
      "source": [
        "# 5. Create a list and tuple in Python, and demonstrate how attempting to change an element works differently\n",
        "# for each.\n",
        "list_colours = ['Red','Green','Yellow','Black','Blue']\n",
        "print(list_colours)\n",
        "list_colours[1] = 'Pink'\n",
        "print(list_colours)\n",
        "print(\"-------------------------------------------------------------\")\n",
        "tuple_colours = ('Red','Green','Yellow','Black','Blue')\n",
        "print(tuple_colours)"
      ],
      "metadata": {
        "colab": {
          "base_uri": "https://localhost:8080/"
        },
        "id": "tm8_bEG563yP",
        "outputId": "6fd2c9a5-13a7-4eaa-e802-5ab37b0cc5ce"
      },
      "execution_count": null,
      "outputs": [
        {
          "output_type": "stream",
          "name": "stdout",
          "text": [
            "['Red', 'Green', 'Yellow', 'Black', 'Blue']\n",
            "['Red', 'Pink', 'Yellow', 'Black', 'Blue']\n",
            "-------------------------------------------------------------\n",
            "('Red', 'Green', 'Yellow', 'Black', 'Blue')\n"
          ]
        }
      ]
    },
    {
      "cell_type": "code",
      "source": [
        "tuple_colours[1] = 'Pink'\n"
      ],
      "metadata": {
        "colab": {
          "base_uri": "https://localhost:8080/",
          "height": 141
        },
        "id": "H4UqlJN49NS3",
        "outputId": "ff3ca3b8-9746-417d-bc05-2ab8ebf438c1"
      },
      "execution_count": null,
      "outputs": [
        {
          "output_type": "error",
          "ename": "TypeError",
          "evalue": "'tuple' object does not support item assignment",
          "traceback": [
            "\u001b[0;31m---------------------------------------------------------------------------\u001b[0m",
            "\u001b[0;31mTypeError\u001b[0m                                 Traceback (most recent call last)",
            "\u001b[0;32m/tmp/ipython-input-3851455148.py\u001b[0m in \u001b[0;36m<cell line: 0>\u001b[0;34m()\u001b[0m\n\u001b[0;32m----> 1\u001b[0;31m \u001b[0mtuple_colours\u001b[0m\u001b[0;34m[\u001b[0m\u001b[0;36m1\u001b[0m\u001b[0;34m]\u001b[0m \u001b[0;34m=\u001b[0m \u001b[0;34m'Pink'\u001b[0m\u001b[0;34m\u001b[0m\u001b[0;34m\u001b[0m\u001b[0m\n\u001b[0m",
            "\u001b[0;31mTypeError\u001b[0m: 'tuple' object does not support item assignment"
          ]
        }
      ]
    },
    {
      "cell_type": "code",
      "source": [
        "print('Tuples are Immutable')"
      ],
      "metadata": {
        "colab": {
          "base_uri": "https://localhost:8080/"
        },
        "id": "EQYT9gdH9Qka",
        "outputId": "718df98c-1b28-4fdc-ef67-87e2ef53ed84"
      },
      "execution_count": null,
      "outputs": [
        {
          "output_type": "stream",
          "name": "stdout",
          "text": [
            "Tuples are Immutable\n"
          ]
        }
      ]
    },
    {
      "cell_type": "code",
      "source": [
        "# 6. Write a function to demonstrate the behavior of mutable and immutable arguments.\n",
        "list_colours = ['Red','Green','Yellow','Black','Blue']\n",
        "print(list_colours)\n",
        "list_colours[1] = 'Pink'\n",
        "print(list_colours)\n",
        "print(\"-------------------------------------------------------------\")\n",
        "tuple_colours = ('Red','Green','Yellow','Black','Blue')\n",
        "print(tuple_colours)\n",
        "tuple_colours[1] = 'Pink'\n"
      ],
      "metadata": {
        "colab": {
          "base_uri": "https://localhost:8080/",
          "height": 245
        },
        "id": "lf_MUemV9dzR",
        "outputId": "21fb2edf-beec-40f1-b82b-304313cad81a"
      },
      "execution_count": null,
      "outputs": [
        {
          "output_type": "stream",
          "name": "stdout",
          "text": [
            "['Red', 'Green', 'Yellow', 'Black', 'Blue']\n",
            "['Red', 'Pink', 'Yellow', 'Black', 'Blue']\n",
            "-------------------------------------------------------------\n",
            "('Red', 'Green', 'Yellow', 'Black', 'Blue')\n"
          ]
        },
        {
          "output_type": "error",
          "ename": "TypeError",
          "evalue": "'tuple' object does not support item assignment",
          "traceback": [
            "\u001b[0;31m---------------------------------------------------------------------------\u001b[0m",
            "\u001b[0;31mTypeError\u001b[0m                                 Traceback (most recent call last)",
            "\u001b[0;32m/tmp/ipython-input-2086747231.py\u001b[0m in \u001b[0;36m<cell line: 0>\u001b[0;34m()\u001b[0m\n\u001b[1;32m      7\u001b[0m \u001b[0mtuple_colours\u001b[0m \u001b[0;34m=\u001b[0m \u001b[0;34m(\u001b[0m\u001b[0;34m'Red'\u001b[0m\u001b[0;34m,\u001b[0m\u001b[0;34m'Green'\u001b[0m\u001b[0;34m,\u001b[0m\u001b[0;34m'Yellow'\u001b[0m\u001b[0;34m,\u001b[0m\u001b[0;34m'Black'\u001b[0m\u001b[0;34m,\u001b[0m\u001b[0;34m'Blue'\u001b[0m\u001b[0;34m)\u001b[0m\u001b[0;34m\u001b[0m\u001b[0;34m\u001b[0m\u001b[0m\n\u001b[1;32m      8\u001b[0m \u001b[0mprint\u001b[0m\u001b[0;34m(\u001b[0m\u001b[0mtuple_colours\u001b[0m\u001b[0;34m)\u001b[0m\u001b[0;34m\u001b[0m\u001b[0;34m\u001b[0m\u001b[0m\n\u001b[0;32m----> 9\u001b[0;31m \u001b[0mtuple_colours\u001b[0m\u001b[0;34m[\u001b[0m\u001b[0;36m1\u001b[0m\u001b[0;34m]\u001b[0m \u001b[0;34m=\u001b[0m \u001b[0;34m'Pink'\u001b[0m\u001b[0;34m\u001b[0m\u001b[0;34m\u001b[0m\u001b[0m\n\u001b[0m",
            "\u001b[0;31mTypeError\u001b[0m: 'tuple' object does not support item assignment"
          ]
        }
      ]
    },
    {
      "cell_type": "code",
      "source": [
        "# 7. Write a program that performs basic arithmetic operations on two user-input numbers.\n",
        "num1 = int(input(\"Enter the First Number : \"))\n",
        "num2 = int(input(\"Enter the Second Number : \"))\n",
        "print(f\"Addition of {num1} and {num2} is {num1+num2}\")\n",
        "print(f\"Subtraction of {num1} and {num2} is {num1-num2}\")\n",
        "print(f\"Multiplication of {num1} and {num2} is {num1*num2}\")\n",
        "print(f\"Division of {num1} and {num2} is {num1/num2}\")"
      ],
      "metadata": {
        "colab": {
          "base_uri": "https://localhost:8080/"
        },
        "id": "OFi9WyCR8e_p",
        "outputId": "6d813c66-dbe2-4ed2-9e1b-c363b56bdb98"
      },
      "execution_count": null,
      "outputs": [
        {
          "output_type": "stream",
          "name": "stdout",
          "text": [
            "Enter the First Number : 10\n",
            "Enter the Second Number : 20\n",
            "Addition of 10 and 20 is 30\n",
            "Subtraction of 10 and 20 is -10\n",
            "Multiplication of 10 and 20 is 200\n",
            "Division of 10 and 20 is 0.5\n"
          ]
        }
      ]
    },
    {
      "cell_type": "code",
      "source": [
        "# 8. Write a program to demonstrate the use of logical operators.\n",
        "a = 10\n",
        "b = 5\n",
        "print(a > b)\n",
        "print(b > a)\n",
        "print(a == b)"
      ],
      "metadata": {
        "colab": {
          "base_uri": "https://localhost:8080/"
        },
        "id": "vsN3wu4y8gCx",
        "outputId": "8a33293a-9e42-463b-c11a-828b2c421216"
      },
      "execution_count": null,
      "outputs": [
        {
          "output_type": "stream",
          "name": "stdout",
          "text": [
            "True\n",
            "False\n",
            "False\n"
          ]
        }
      ]
    },
    {
      "cell_type": "code",
      "source": [
        "# 9. Write a Python program to convert user input from string to integer, float, and boolean types.\n",
        "user_input1 = input(\"Enter the Input that convert to Integer: \")\n",
        "print(f\"String : {user_input1}\")\n",
        "print(type(user_input1))\n",
        "integer = int(user_input1)\n",
        "print(f\"Integer : {integer}\")\n",
        "print(type(integer))\n",
        "print('--------------------------------------------------------------------------')\n",
        "user_input2 = input(\"Enter the Input that convert to Float: \")\n",
        "print(f\"String : {user_input2}\")\n",
        "print(type(user_input2))\n",
        "float_convert = float(user_input2)\n",
        "print(f\"Float  : {float_convert}\")\n",
        "print(type(float_convert))\n",
        "print('--------------------------------------------------------------------------')\n",
        "user_input3 = input(\"Enter the Input that convert to Boolean: \")\n",
        "print(f\"String : {user_input3}\")\n",
        "print(type(user_input3))\n",
        "Bool_convert = bool(user_input3)\n",
        "print(f\"Float  : {Bool_convert}\")\n",
        "print(type(Bool_convert))"
      ],
      "metadata": {
        "colab": {
          "base_uri": "https://localhost:8080/"
        },
        "id": "3xNRuq1y8g8I",
        "outputId": "08ab73b6-8820-4fb1-96c8-c7a723a05a83"
      },
      "execution_count": null,
      "outputs": [
        {
          "output_type": "stream",
          "name": "stdout",
          "text": [
            "Enter the Input that convert to Integer: 45\n",
            "String : 45\n",
            "<class 'str'>\n",
            "Integer : 45\n",
            "<class 'int'>\n",
            "--------------------------------------------------------------------------\n",
            "Enter the Input that convert to Float: 78.022\n",
            "String : 78.022\n",
            "<class 'str'>\n",
            "Float  : 78.022\n",
            "<class 'float'>\n",
            "--------------------------------------------------------------------------\n",
            "Enter the Input that convert to Boolean: True\n",
            "String : True\n",
            "<class 'str'>\n",
            "Float  : True\n",
            "<class 'bool'>\n"
          ]
        }
      ]
    },
    {
      "cell_type": "code",
      "source": [
        "# 10. Write code to demonstrate type casting with list elements.\n",
        "list = ['1','2','3','4','5']\n",
        "print(list)\n",
        "print(type(list[0]))\n",
        "type_casted_list = [int(i) for i in list]\n",
        "print(type_casted_list)\n",
        "print(type(type_casted_list[0]))"
      ],
      "metadata": {
        "colab": {
          "base_uri": "https://localhost:8080/"
        },
        "id": "5cwsb6A78h5C",
        "outputId": "011bb97f-4f75-4186-e728-f5022a243c44"
      },
      "execution_count": null,
      "outputs": [
        {
          "output_type": "stream",
          "name": "stdout",
          "text": [
            "['1', '2', '3', '4', '5']\n",
            "<class 'str'>\n",
            "[1, 2, 3, 4, 5]\n",
            "<class 'int'>\n"
          ]
        }
      ]
    },
    {
      "cell_type": "code",
      "source": [
        "# 11. Write a program that checks if a number is positive, negative, or zero.\n",
        "number = int(input(\"Enter the Number : \"))\n",
        "if number > 0:\n",
        "  print(f\"{number} is a Positive Number\")\n",
        "elif number < 0:\n",
        "  print(f\"{number} is a Negative Number\")"
      ],
      "metadata": {
        "colab": {
          "base_uri": "https://localhost:8080/"
        },
        "id": "GHVIXURa8i8A",
        "outputId": "3622aa12-64a0-4fc9-8852-1cc576de712c"
      },
      "execution_count": null,
      "outputs": [
        {
          "output_type": "stream",
          "name": "stdout",
          "text": [
            "Enter the Number : -12\n",
            "-12 is a Negative Number\n"
          ]
        }
      ]
    },
    {
      "cell_type": "code",
      "source": [
        "# 12. Write a for loop to print numbers from 1 to 10.\n",
        "for i in range(1,11):\n",
        "  print(i)"
      ],
      "metadata": {
        "colab": {
          "base_uri": "https://localhost:8080/"
        },
        "id": "p9Q5ZZny8kRC",
        "outputId": "c5e6f888-9e7e-4816-9513-aafd0bea3f8b"
      },
      "execution_count": null,
      "outputs": [
        {
          "output_type": "stream",
          "name": "stdout",
          "text": [
            "1\n",
            "2\n",
            "3\n",
            "4\n",
            "5\n",
            "6\n",
            "7\n",
            "8\n",
            "9\n",
            "10\n"
          ]
        }
      ]
    },
    {
      "cell_type": "code",
      "source": [
        "# 13. Write a Python program to find the sum of all even numbers between 1 and 50.\n",
        "sum = 0\n",
        "for i in range(1,51):\n",
        "  sum += i\n",
        "print(f\"Sum : {sum}\")"
      ],
      "metadata": {
        "colab": {
          "base_uri": "https://localhost:8080/"
        },
        "id": "bxgXs4xS8lRB",
        "outputId": "a5282f1d-c6aa-41cb-b12f-1d6ad2bda099"
      },
      "execution_count": null,
      "outputs": [
        {
          "output_type": "stream",
          "name": "stdout",
          "text": [
            "Sum : 1275\n"
          ]
        }
      ]
    },
    {
      "cell_type": "code",
      "source": [
        "# 14. Write a program to reverse a string using a while loop.\n",
        "string = \"HelloWorld\"\n",
        "i = len(string) - 1\n",
        "reversed_string = \"\"\n",
        "\n",
        "while i >= 0:\n",
        "  reversed_string += string[i]\n",
        "  i -= 1\n",
        "\n",
        "print(reversed_string)"
      ],
      "metadata": {
        "colab": {
          "base_uri": "https://localhost:8080/"
        },
        "id": "VLhgr7UN8mSJ",
        "outputId": "7a3e028e-c27e-4fa3-ef0b-6511c5d1392c"
      },
      "execution_count": null,
      "outputs": [
        {
          "output_type": "stream",
          "name": "stdout",
          "text": [
            "dlroWolleH\n"
          ]
        }
      ]
    },
    {
      "cell_type": "code",
      "source": [
        "# 15. Write a Python program to calculate the factorial of a number provided by the user using a while loop.\n",
        "number = int(input(\"Enter The Number : \"))\n",
        "factorial =1\n",
        "for i in range (1, number+1):\n",
        "  factorial *= i\n",
        "print(f\"Factorial : {factorial}\")"
      ],
      "metadata": {
        "colab": {
          "base_uri": "https://localhost:8080/"
        },
        "id": "MrF2i2Hh8nLC",
        "outputId": "5cc3a550-31a5-4b8d-86c5-fdba526c11bd"
      },
      "execution_count": null,
      "outputs": [
        {
          "output_type": "stream",
          "name": "stdout",
          "text": [
            "Enter The Number : 10\n",
            "Factorial : 3628800\n"
          ]
        }
      ]
    },
    {
      "cell_type": "code",
      "source": [],
      "metadata": {
        "id": "xDWuan_CAUuL"
      },
      "execution_count": null,
      "outputs": []
    }
  ]
}